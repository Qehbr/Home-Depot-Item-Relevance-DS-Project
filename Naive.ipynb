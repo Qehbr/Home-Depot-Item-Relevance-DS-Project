{
 "cells": [
  {
   "cell_type": "code",
   "execution_count": 4,
   "id": "initial_id",
   "metadata": {
    "collapsed": true,
    "ExecuteTime": {
     "end_time": "2024-03-12T14:40:37.694809Z",
     "start_time": "2024-03-12T14:40:36.130765Z"
    }
   },
   "outputs": [],
   "source": [
    "import time\n",
    "import numpy as np\n",
    "import pandas as pd\n",
    "from sklearn.feature_extraction.text import CountVectorizer\n",
    "from sklearn.linear_model import LinearRegression\n",
    "from sklearn.model_selection import train_test_split\n",
    "from sklearn.linear_model import Ridge, Lasso, ElasticNet\n",
    "from sklearn.ensemble import RandomForestRegressor, GradientBoostingRegressor\n",
    "from sklearn.tree import DecisionTreeRegressor\n",
    "from sklearn.svm import SVR\n",
    "from sklearn.metrics import mean_absolute_error, mean_squared_error\n",
    "\n",
    "from utils.old_preproc import remove_html_tags_old, remove_stopwords"
   ]
  },
  {
   "cell_type": "code",
   "outputs": [],
   "source": [
    "# read and preprocess descriptions\n",
    "descriptions = pd.read_csv('csv/product_descriptions.csv')\n",
    "descriptions['product_description'] = descriptions['product_description'].apply(remove_html_tags_old)\n",
    "descriptions['product_description'] = descriptions['product_description'].apply(remove_stopwords)"
   ],
   "metadata": {
    "collapsed": false,
    "ExecuteTime": {
     "end_time": "2024-03-12T14:41:28.926956Z",
     "start_time": "2024-03-12T14:40:37.695814Z"
    }
   },
   "id": "5eb38274696330d8",
   "execution_count": 5
  },
  {
   "cell_type": "code",
   "outputs": [],
   "source": [
    "# read and preprocess train\n",
    "train = pd.read_csv('csv/train.csv', encoding='ISO-8859-1')\n",
    "train = pd.merge(train, descriptions, on='product_uid')\n",
    "train = train[['search_term', 'product_description', 'relevance']]\n",
    "\n",
    "# read and preprocess test\n",
    "test = pd.read_csv('csv/test.csv', encoding='ISO-8859-1')\n",
    "test = pd.merge(test, descriptions, on='product_uid')\n",
    "test_sol = pd.read_csv('csv/solution.csv')\n",
    "test = pd.merge(test, test_sol, on='id')\n",
    "test = test[['search_term', 'product_description', 'relevance']]\n",
    "test = test[test['relevance'] != -1].reset_index()"
   ],
   "metadata": {
    "collapsed": false,
    "ExecuteTime": {
     "end_time": "2024-03-12T14:41:29.206634Z",
     "start_time": "2024-03-12T14:41:28.927959Z"
    }
   },
   "id": "b5c0c777f4cabc8b",
   "execution_count": 6
  },
  {
   "cell_type": "code",
   "outputs": [],
   "source": [
    "# merge search terms and descriptions\n",
    "train['text_combined'] = train['search_term'] + \" \" + train['product_description']\n",
    "test['text_combined'] = test['search_term']+ \" \" + test['product_description']"
   ],
   "metadata": {
    "collapsed": false,
    "ExecuteTime": {
     "end_time": "2024-03-07T02:35:56.034540300Z",
     "start_time": "2024-03-07T02:35:55.797225200Z"
    }
   },
   "id": "f7c9bb3fe3537afc",
   "execution_count": 6
  },
  {
   "cell_type": "code",
   "outputs": [],
   "source": [
    "# create CountVectorizer with character analyzer\n",
    "vectorizer = CountVectorizer(analyzer='char')\n",
    "\n",
    "# transform merged text to a character count matrix\n",
    "X = vectorizer.fit_transform(train['text_combined'])\n",
    "y = train['relevance']\n",
    "\n",
    "# split to train/val\n",
    "X_train, X_val, y_train, y_val = train_test_split(X, y, test_size=0.2, random_state=42)\n",
    "\n",
    "# transform test\n",
    "X_test = vectorizer.transform(test['text_combined'])\n",
    "y_test = test['relevance']"
   ],
   "metadata": {
    "collapsed": false,
    "ExecuteTime": {
     "end_time": "2024-03-07T02:35:57.997877800Z",
     "start_time": "2024-03-07T02:35:56.037053400Z"
    }
   },
   "id": "95b85f4411b2eab6",
   "execution_count": 7
  },
  {
   "cell_type": "code",
   "outputs": [
    {
     "name": "stdout",
     "output_type": "stream",
     "text": [
      "Ridge Regression - Training time: 0.3292s, Train RMSE: 0.5290273179410736, Val RMSE: 0.5275805392476611, Test RMSE 0.5322690853537078, Train MAE: 0.4338784810834374, Val MAE: 0.4314766636794571, Test MAE: 0.43594534963227977\n",
      "Lasso Regression - Training time: 0.0461s, Train RMSE: 0.5341120696389539, Val RMSE: 0.5321181699165836, Test RMSE 0.5350642645305704, Train MAE: 0.43815167082911355, Val MAE: 0.4352876659118073, Test MAE: 0.4384917024890313\n",
      "Elastic Net - Training time: 0.0445s, Train RMSE: 0.5340851824468785, Val RMSE: 0.5320775557235927, Test RMSE 0.5350517680707741, Train MAE: 0.4380770211454573, Val MAE: 0.4351918539437761, Test MAE: 0.43843630087183444\n",
      "Decision Tree Regressor - Training time: 0.1929s, Train RMSE: 0.5300325363877064, Val RMSE: 0.5298187718701283, Test RMSE 0.5344932007888747, Train MAE: 0.4359445913869181, Val MAE: 0.43501193902097884, Test MAE: 0.4390034008881969\n",
      "Random Forest Regressor - Training time: 13.8794s, Train RMSE: 0.5279730327231529, Val RMSE: 0.5276041391619296, Test RMSE 0.5324635498675796, Train MAE: 0.4329095036007765, Val MAE: 0.43173823753237406, Test MAE: 0.4360744688316605\n",
      "Gradient Boosting Regressor - Training time: 15.4282s, Train RMSE: 0.5117626359086832, Val RMSE: 0.5179344564581523, Test RMSE 0.5292528865973304, Train MAE: 0.41999835280386294, Val MAE: 0.4244786152848152, Test MAE: 0.4339868317828355\n"
     ]
    }
   ],
   "source": [
    "# initialize models\n",
    "linear_reg = LinearRegression()\n",
    "ridge_reg = Ridge(alpha=1.0)\n",
    "lasso_reg = Lasso(alpha=0.1)\n",
    "elastic_net_reg = ElasticNet(alpha=0.1, l1_ratio=0.5)\n",
    "decision_tree_reg = DecisionTreeRegressor(max_depth=5)\n",
    "random_forest_reg = RandomForestRegressor(n_estimators=100, max_depth=5, random_state=42)\n",
    "gradient_boosting_reg = GradientBoostingRegressor(n_estimators=100, learning_rate=0.1, max_depth=5, random_state=42)\n",
    "svr_reg = SVR(kernel='rbf', C=1.0, epsilon=0.2)\n",
    "\n",
    "regressors = [\n",
    "    ('Ridge Regression', ridge_reg),\n",
    "    ('Lasso Regression', lasso_reg),\n",
    "    ('Elastic Net', elastic_net_reg),\n",
    "    ('Decision Tree Regressor', decision_tree_reg),\n",
    "    ('Random Forest Regressor', random_forest_reg),\n",
    "    ('Gradient Boosting Regressor', gradient_boosting_reg),\n",
    "]\n",
    "\n",
    "# train and test models\n",
    "for name, reg in regressors:\n",
    "    start_time = time.time()\n",
    "    reg.fit(X_train, y_train)\n",
    "    training_time = time.time() - start_time\n",
    "\n",
    "    train_rmse = np.sqrt(mean_squared_error(y_train, reg.predict(X_train)))\n",
    "    val_rmse = np.sqrt(mean_squared_error(y_val, reg.predict(X_val)))\n",
    "    test_rmse = np.sqrt(mean_squared_error(y_test, reg.predict(X_test)))\n",
    "\n",
    "    train_mae = mean_absolute_error(y_train, reg.predict(X_train))\n",
    "    val_mae = mean_absolute_error(y_val, reg.predict(X_val))\n",
    "    test_mae = mean_absolute_error(y_test, reg.predict(X_test))\n",
    "\n",
    "    print(\n",
    "        f\"{name} - Training time: {training_time:.4f}s, Train RMSE: {train_rmse}, Val RMSE: {val_rmse}, Test RMSE {test_rmse}, Train MAE: {train_mae}, Val MAE: {val_mae}, Test MAE: {test_mae}\")\n"
   ],
   "metadata": {
    "collapsed": false,
    "ExecuteTime": {
     "end_time": "2024-03-07T02:36:31.977886300Z",
     "start_time": "2024-03-07T02:35:58.002877900Z"
    }
   },
   "id": "6d68496eeb0ea2d3",
   "execution_count": 8
  }
 ],
 "metadata": {
  "kernelspec": {
   "display_name": "Python 3",
   "language": "python",
   "name": "python3"
  },
  "language_info": {
   "codemirror_mode": {
    "name": "ipython",
    "version": 2
   },
   "file_extension": ".py",
   "mimetype": "text/x-python",
   "name": "python",
   "nbconvert_exporter": "python",
   "pygments_lexer": "ipython2",
   "version": "2.7.6"
  }
 },
 "nbformat": 4,
 "nbformat_minor": 5
}
