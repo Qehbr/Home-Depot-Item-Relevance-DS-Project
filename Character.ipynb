{
 "cells": [
  {
   "cell_type": "code",
   "execution_count": 1,
   "id": "initial_id",
   "metadata": {
    "collapsed": true,
    "ExecuteTime": {
     "end_time": "2024-03-12T14:47:19.937583Z",
     "start_time": "2024-03-12T14:47:16.481891Z"
    }
   },
   "outputs": [],
   "source": [
    "import time\n",
    "import pandas as pd\n",
    "from sklearn.model_selection import train_test_split\n",
    "from torch.nn import MSELoss, L1Loss\n",
    "from torch.optim import Adam\n",
    "from torch.utils.data import DataLoader, Subset\n",
    "from math import sqrt\n",
    "\n",
    "from char_utils.CharDataset import CharDataset\n",
    "from char_utils.CharSiameseLSTM import CharSiameseLSTM\n",
    "from char_utils.char_utils import *\n",
    "from utils.old_preproc import *\n",
    "from utils.GLOBALS import *"
   ]
  },
  {
   "cell_type": "code",
   "outputs": [],
   "source": [
    "# read and preprocess descriptions\n",
    "descriptions = pd.read_csv('csv/product_descriptions.csv')\n",
    "descriptions['product_description'] = descriptions['product_description'].apply(remove_html_tags_old)\n",
    "descriptions['product_description'] = descriptions['product_description'].apply(remove_stopwords)\n",
    "descriptions['product_description'] = descriptions['product_description'].apply(remove_spaces)"
   ],
   "metadata": {
    "collapsed": false
   },
   "id": "5eb38274696330d8",
   "execution_count": null
  },
  {
   "cell_type": "code",
   "outputs": [],
   "source": [
    "# read and preprocess train\n",
    "train = pd.read_csv('csv/train.csv', encoding='ISO-8859-1')\n",
    "train = pd.merge(train, descriptions, on='product_uid')\n",
    "train = train[['search_term', 'product_description', 'relevance']]\n",
    "train['relevance'] = train['relevance'].apply(label_min_max_scaling)\n",
    "\n",
    "# read and preprocess test\n",
    "test = pd.read_csv('csv/test.csv', encoding='ISO-8859-1')\n",
    "test = pd.merge(test, descriptions, on='product_uid')\n",
    "test_sol = pd.read_csv('csv/solution.csv')\n",
    "test = pd.merge(test, test_sol, on='id')\n",
    "test = test[['search_term', 'product_description', 'relevance']]\n",
    "test = test[test['relevance'] != -1].reset_index()\n",
    "test['relevance'] = test['relevance'].apply(label_min_max_scaling)"
   ],
   "metadata": {
    "collapsed": false,
    "ExecuteTime": {
     "end_time": "2024-03-08T21:40:53.002565Z",
     "start_time": "2024-03-08T21:40:52.707366Z"
    }
   },
   "id": "b5c0c777f4cabc8b",
   "execution_count": 5
  },
  {
   "cell_type": "code",
   "outputs": [],
   "source": [
    "# convert to sequence of characters\n",
    "train['search_term'] = train['search_term'].apply(to_character_sequences)\n",
    "train['product_description'] = train['product_description'].apply(to_character_sequences)\n",
    "\n",
    "test['search_term'] = test['search_term'].apply(to_character_sequences)\n",
    "test['product_description'] = test['product_description'].apply(to_character_sequences)"
   ],
   "metadata": {
    "collapsed": false,
    "ExecuteTime": {
     "end_time": "2024-03-08T21:40:54.974740Z",
     "start_time": "2024-03-08T21:40:53.006155Z"
    }
   },
   "id": "f7c9bb3fe3537afc",
   "execution_count": 7
  },
  {
   "cell_type": "code",
   "outputs": [],
   "source": [
    "# calculate max lengths for padding in dataset\n",
    "max_len_search = 0\n",
    "for row in train['search_term']:\n",
    "    max_len_search = max(max_len_search, len(row))\n",
    "\n",
    "max_len_desc = 0\n",
    "for row in train['product_description']:\n",
    "    max_len_desc = max(max_len_desc, len(row))"
   ],
   "metadata": {
    "collapsed": false,
    "ExecuteTime": {
     "end_time": "2024-03-08T21:40:55.005338Z",
     "start_time": "2024-03-08T21:40:54.975243Z"
    }
   },
   "id": "5e0b9c8bcbc0cccb",
   "execution_count": 8
  },
  {
   "cell_type": "code",
   "outputs": [],
   "source": [
    "# create mapping and train/test datasets\n",
    "char_to_int = create_char_to_int_mapping(train['search_term'], train['product_description'])\n",
    "train_dataset = CharDataset(train['search_term'], train['product_description'], train['relevance'],\n",
    "                            char_to_int, max_len_search, max_len_desc)\n",
    "test_dataset = CharDataset(test['search_term'], test['product_description'], test['relevance'],\n",
    "                           char_to_int, max_len_search, max_len_desc)"
   ],
   "metadata": {
    "collapsed": false
   },
   "id": "d8e0ae2b1f49f754"
  },
  {
   "cell_type": "code",
   "outputs": [
    {
     "name": "stdout",
     "output_type": "stream",
     "text": [
      "Using cuda device.\n",
      "Epoch 1 (67.5s), Train RMSE: 0.6365880877361887, Val RMSE: 0.6244732538452197, Train MAE: 0.5261875341821296, Val MAE: 0.5304179991468077\n",
      "New best model saved at epoch 1 with Val RMSE: 0.6245\n",
      "Epoch 2 (69.0s), Train RMSE: 0.532951635868758, Val RMSE: 0.5265944750298877, Train MAE: 0.4379062405822066, Val MAE: 0.43342422456478674\n",
      "New best model saved at epoch 2 with Val RMSE: 0.5266\n",
      "Epoch 3 (68.6s), Train RMSE: 0.5279955747337498, Val RMSE: 0.5239115365394476, Train MAE: 0.4329959358363937, Val MAE: 0.42881884012158555\n",
      "New best model saved at epoch 3 with Val RMSE: 0.5239\n",
      "Epoch 4 (68.4s), Train RMSE: 0.5255886189610628, Val RMSE: 0.5220285890981735, Train MAE: 0.431265924517407, Val MAE: 0.4306275996180767\n",
      "New best model saved at epoch 4 with Val RMSE: 0.5220\n",
      "Epoch 5 (67.8s), Train RMSE: 0.5232274291398465, Val RMSE: 0.5186105105750187, Train MAE: 0.4298817529667561, Val MAE: 0.4261180908513871\n",
      "New best model saved at epoch 5 with Val RMSE: 0.5186\n",
      "Epoch 6 (68.2s), Train RMSE: 0.5202143846385138, Val RMSE: 0.5172463095216632, Train MAE: 0.4272089013655518, Val MAE: 0.42290025097695827\n",
      "New best model saved at epoch 6 with Val RMSE: 0.5172\n",
      "Epoch 7 (68.0s), Train RMSE: 0.5161347489982335, Val RMSE: 0.5141817367049727, Train MAE: 0.42348239279575145, Val MAE: 0.4156685861576194\n",
      "New best model saved at epoch 7 with Val RMSE: 0.5142\n",
      "Epoch 8 (68.1s), Train RMSE: 0.5118745911898015, Val RMSE: 0.5090662742901989, Train MAE: 0.4193861057820176, Val MAE: 0.4134463743994847\n",
      "New best model saved at epoch 8 with Val RMSE: 0.5091\n",
      "Epoch 9 (68.0s), Train RMSE: 0.5068055014126903, Val RMSE: 0.5050511519057544, Train MAE: 0.41469909780134484, Val MAE: 0.4082338256972416\n",
      "New best model saved at epoch 9 with Val RMSE: 0.5051\n",
      "Epoch 10 (68.0s), Train RMSE: 0.5020065951563749, Val RMSE: 0.49949467091849076, Train MAE: 0.4098039294092725, Val MAE: 0.40627578182936325\n",
      "New best model saved at epoch 10 with Val RMSE: 0.4995\n",
      "Epoch 11 (68.0s), Train RMSE: 0.4966410189776523, Val RMSE: 0.49732988936567873, Train MAE: 0.40488298120459304, Val MAE: 0.40205317475349295\n",
      "New best model saved at epoch 11 with Val RMSE: 0.4973\n",
      "Epoch 12 (68.0s), Train RMSE: 0.49144032896911893, Val RMSE: 0.49525819018900674, Train MAE: 0.4000544672478841, Val MAE: 0.4009411987125978\n",
      "New best model saved at epoch 12 with Val RMSE: 0.4953\n",
      "Epoch 13 (67.9s), Train RMSE: 0.48691388953846104, Val RMSE: 0.4945000758766918, Train MAE: 0.39582826609605715, Val MAE: 0.3968340582180976\n",
      "New best model saved at epoch 13 with Val RMSE: 0.4945\n",
      "Epoch 14 (67.9s), Train RMSE: 0.48364116802856094, Val RMSE: 0.4940105843082425, Train MAE: 0.39335748987588337, Val MAE: 0.39583095680432906\n",
      "New best model saved at epoch 14 with Val RMSE: 0.4940\n",
      "Epoch 15 (68.2s), Train RMSE: 0.4801475336747827, Val RMSE: 0.48875421413822934, Train MAE: 0.3893525902555757, Val MAE: 0.3936557439000593\n",
      "New best model saved at epoch 15 with Val RMSE: 0.4888\n",
      "Epoch 16 (68.2s), Train RMSE: 0.4771518209990846, Val RMSE: 0.49133020854433357, Train MAE: 0.38736313883196766, Val MAE: 0.39260006379031837\n",
      "Epoch 17 (68.3s), Train RMSE: 0.47360266363069436, Val RMSE: 0.4857022916621174, Train MAE: 0.38342591723731756, Val MAE: 0.38991961926040786\n",
      "New best model saved at epoch 17 with Val RMSE: 0.4857\n",
      "Epoch 18 (68.2s), Train RMSE: 0.47058230631230147, Val RMSE: 0.4872338397731864, Train MAE: 0.3811531595865258, Val MAE: 0.38799696205936013\n",
      "Epoch 19 (68.2s), Train RMSE: 0.4689290251077356, Val RMSE: 0.48219251722866036, Train MAE: 0.37916521593721364, Val MAE: 0.3915693570329252\n",
      "New best model saved at epoch 19 with Val RMSE: 0.4822\n",
      "Epoch 20 (68.1s), Train RMSE: 0.4662994571080294, Val RMSE: 0.4835084649409752, Train MAE: 0.37711724079689546, Val MAE: 0.38605555392669993\n",
      "Epoch 21 (68.4s), Train RMSE: 0.46399748227840565, Val RMSE: 0.48476781935463037, Train MAE: 0.37509798947419626, Val MAE: 0.3866061948846351\n",
      "Epoch 22 (69.1s), Train RMSE: 0.4626016580710796, Val RMSE: 0.4842165190593047, Train MAE: 0.3735592255447009, Val MAE: 0.38547932180666933\n",
      "Epoch 23 (70.0s), Train RMSE: 0.4607262061229929, Val RMSE: 0.48174476067341815, Train MAE: 0.3720221102153203, Val MAE: 0.3848055396804897\n",
      "New best model saved at epoch 23 with Val RMSE: 0.4817\n",
      "Epoch 24 (69.8s), Train RMSE: 0.45803721213840953, Val RMSE: 0.48282640954382045, Train MAE: 0.36948905125462295, Val MAE: 0.3844080491838176\n",
      "Epoch 25 (69.7s), Train RMSE: 0.4575718526678919, Val RMSE: 0.4808717751864572, Train MAE: 0.36926456212800274, Val MAE: 0.38417663810561187\n",
      "New best model saved at epoch 25 with Val RMSE: 0.4809\n",
      "Epoch 26 (69.7s), Train RMSE: 0.45663033298614175, Val RMSE: 0.4843049814919423, Train MAE: 0.36875916236376777, Val MAE: 0.38297099230726256\n",
      "Epoch 27 (69.7s), Train RMSE: 0.45550022742457996, Val RMSE: 0.4789705545915827, Train MAE: 0.36785106141140755, Val MAE: 0.3842886238384942\n",
      "New best model saved at epoch 27 with Val RMSE: 0.4790\n",
      "Epoch 28 (69.7s), Train RMSE: 0.45337244364853924, Val RMSE: 0.48248599630533057, Train MAE: 0.36570099951800317, Val MAE: 0.38272052730113143\n",
      "Epoch 29 (69.8s), Train RMSE: 0.4521687525007369, Val RMSE: 0.4810598857113984, Train MAE: 0.3648131558338346, Val MAE: 0.3810733484887105\n",
      "Epoch 30 (69.7s), Train RMSE: 0.4513621357462438, Val RMSE: 0.4792391562597415, Train MAE: 0.3642026043654659, Val MAE: 0.38165222038555774\n",
      "Epoch 31 (69.7s), Train RMSE: 0.4519726258151687, Val RMSE: 0.479445075483607, Train MAE: 0.3645078825679624, Val MAE: 0.3803279404659833\n",
      "Epoch 32 (69.7s), Train RMSE: 0.4496835340126649, Val RMSE: 0.48016848924937533, Train MAE: 0.36216303452422116, Val MAE: 0.3804177239676051\n",
      "Epoch 33 (69.7s), Train RMSE: 0.4489352651882524, Val RMSE: 0.48331896504250016, Train MAE: 0.3617881822194349, Val MAE: 0.382060366747462\n",
      "Epoch 34 (69.8s), Train RMSE: 0.4494657877146783, Val RMSE: 0.4787847590245489, Train MAE: 0.3619376828061388, Val MAE: 0.3798491585724618\n",
      "New best model saved at epoch 34 with Val RMSE: 0.4788\n",
      "Epoch 35 (69.7s), Train RMSE: 0.44667401158057246, Val RMSE: 0.479395771649172, Train MAE: 0.3597940751814696, Val MAE: 0.37848493763433866\n",
      "Epoch 36 (69.7s), Train RMSE: 0.44685056598624123, Val RMSE: 0.48371839398752686, Train MAE: 0.3595425034432227, Val MAE: 0.38195654119382394\n",
      "Epoch 37 (69.7s), Train RMSE: 0.44496681505847885, Val RMSE: 0.4863310370744064, Train MAE: 0.35823539294251033, Val MAE: 0.3808954279883374\n",
      "Epoch 38 (69.8s), Train RMSE: 0.4470587884910936, Val RMSE: 0.482337718387757, Train MAE: 0.3599942638068582, Val MAE: 0.38057541292785907\n",
      "Epoch 39 (69.7s), Train RMSE: 0.44443281653599764, Val RMSE: 0.4799248651134937, Train MAE: 0.3576709179961285, Val MAE: 0.3797905700271455\n",
      "Epoch 40 (69.7s), Train RMSE: 0.44425036696492265, Val RMSE: 0.47802006071135944, Train MAE: 0.35758205066561677, Val MAE: 0.37885915496755873\n",
      "New best model saved at epoch 40 with Val RMSE: 0.4780\n",
      "Epoch 41 (69.8s), Train RMSE: 0.44388184098836553, Val RMSE: 0.4782804074075743, Train MAE: 0.35733140683819137, Val MAE: 0.3786068196413857\n",
      "Epoch 42 (69.7s), Train RMSE: 0.44306874960229375, Val RMSE: 0.48099968711553326, Train MAE: 0.3568859862860367, Val MAE: 0.3806266215297557\n",
      "Epoch 43 (69.7s), Train RMSE: 0.4426712922753329, Val RMSE: 0.4853513054061281, Train MAE: 0.35638900783786936, Val MAE: 0.38094347848959165\n",
      "Epoch 44 (69.7s), Train RMSE: 0.44223853232760835, Val RMSE: 0.48046532165452277, Train MAE: 0.3557956141212219, Val MAE: 0.37833279849659884\n",
      "Epoch 45 (69.8s), Train RMSE: 0.44238414957211647, Val RMSE: 0.47969691736091974, Train MAE: 0.35576718953797204, Val MAE: 0.38006762325948784\n",
      "Epoch 46 (69.8s), Train RMSE: 0.44060940240625224, Val RMSE: 0.48084447739281255, Train MAE: 0.3544773839486673, Val MAE: 0.3786515492336847\n",
      "Epoch 47 (69.7s), Train RMSE: 0.4407826667158869, Val RMSE: 0.48206242416485146, Train MAE: 0.35423522603189306, Val MAE: 0.38037141912119005\n",
      "Epoch 48 (69.8s), Train RMSE: 0.4408364337281116, Val RMSE: 0.4819415550943102, Train MAE: 0.3544129746004658, Val MAE: 0.37974865472846236\n",
      "Epoch 49 (69.7s), Train RMSE: 0.44052397882483396, Val RMSE: 0.4821477428196647, Train MAE: 0.3546393857045232, Val MAE: 0.3792964201096148\n",
      "Epoch 50 (69.8s), Train RMSE: 0.4391300711776962, Val RMSE: 0.48121198960285827, Train MAE: 0.3530617463864944, Val MAE: 0.3791149883267367\n",
      "Training time: 3453.0686s\n"
     ]
    }
   ],
   "source": [
    "# train parameters\n",
    "vocab_size = len(char_to_int) + 1  # adding 1 for padding index: 0\n",
    "embedding_dim = 64\n",
    "hidden_dim = 128\n",
    "learning_rate = 0.001\n",
    "batch_size = 64\n",
    "num_epochs = 50\n",
    "print(f\"Using {device} device.\")\n",
    "\n",
    "# split train to train-val\n",
    "train_indices, val_indices = train_test_split(range(len(train)), test_size=0.2, random_state=42)\n",
    "train_subset = Subset(train_dataset, train_indices)\n",
    "val_subset = Subset(train_dataset, val_indices)\n",
    "train_data_loader = DataLoader(train_subset, batch_size=batch_size, shuffle=True)\n",
    "val_data_loader = DataLoader(val_subset, batch_size=batch_size, shuffle=False)\n",
    "\n",
    "# model, metrics, optimizer\n",
    "model = CharSiameseLSTM(vocab_size, embedding_dim, hidden_dim).to(device)\n",
    "mse_loss = MSELoss()\n",
    "mae_loss = L1Loss()\n",
    "optimizer = Adam(model.parameters(), lr=learning_rate)\n",
    "\n",
    "# used for saving best model\n",
    "best_val_rmse = float('inf')\n",
    "\n",
    "start_time = time.time()\n",
    "for epoch in range(num_epochs):\n",
    "    epoch_start_time = time.time()\n",
    "\n",
    "    model.train()\n",
    "    total_mse_train_loss = 0\n",
    "    total_mae_train_loss = 0\n",
    "    total_train_samples = 0\n",
    "    # train loop\n",
    "    for search_term, product_description, relevance in train_data_loader:\n",
    "        search_term, product_description, relevance = (search_term.to(device),\n",
    "                                                       product_description.to(device),\n",
    "                                                       relevance.to(device))\n",
    "        # backpropagation\n",
    "        optimizer.zero_grad()\n",
    "        outputs = model(search_term, product_description).squeeze(1)\n",
    "        loss_mse = mse_loss(outputs, relevance)\n",
    "        loss_mse.backward()\n",
    "        optimizer.step()\n",
    "\n",
    "        # inverse labels for correct calculation of metrics\n",
    "        loss_mse = mse_loss(inverse_label_min_max_scaling(outputs), inverse_label_min_max_scaling(relevance))\n",
    "        loss_mae = mae_loss(inverse_label_min_max_scaling(outputs), inverse_label_min_max_scaling(relevance))\n",
    "\n",
    "        total_mse_train_loss += loss_mse.item() * len(relevance)\n",
    "        total_mae_train_loss += loss_mae.item() * len(relevance)\n",
    "        total_train_samples += len(relevance)\n",
    "\n",
    "    train_rmse = sqrt(total_mse_train_loss / total_train_samples)\n",
    "    train_mae = total_mae_train_loss / total_train_samples\n",
    "\n",
    "    # validation loop\n",
    "    model.eval()\n",
    "    total_mse_val_loss = 0\n",
    "    total_mae_val_loss = 0\n",
    "    total_val_samples = 0\n",
    "    with (torch.no_grad()):\n",
    "        for search_term, product_description, relevance in val_data_loader:\n",
    "            search_term, product_description, relevance = search_term.to(device), product_description.to(\n",
    "                device), relevance.to(device)\n",
    "\n",
    "            outputs = model(search_term, product_description).squeeze(1)\n",
    "            val_loss_mse = mse_loss(inverse_label_min_max_scaling(outputs), inverse_label_min_max_scaling(relevance))\n",
    "            val_loss_mae = mae_loss(inverse_label_min_max_scaling(outputs), inverse_label_min_max_scaling(relevance))\n",
    "\n",
    "            total_mse_val_loss += val_loss_mse.item() * len(relevance)\n",
    "            total_mae_val_loss += val_loss_mae.item() * len(relevance)\n",
    "            total_val_samples += len(relevance)\n",
    "\n",
    "    val_rmse = sqrt(total_mse_val_loss / total_val_samples)\n",
    "    val_mae = total_mae_val_loss / total_val_samples\n",
    "\n",
    "    epoch_time = time.time() - epoch_start_time\n",
    "    print(f\"Epoch {epoch + 1} ({epoch_time:.1f}s), Train RMSE: {train_rmse}, Val RMSE: {val_rmse}, Train MAE: {train_mae}, Val MAE: {val_mae}\")\n",
    "\n",
    "    # save best model\n",
    "    if val_rmse < best_val_rmse:\n",
    "        best_val_rmse = val_rmse\n",
    "        torch.save(model.state_dict(), 'best_model_character.pth')\n",
    "        print(f\"New best model saved at epoch {epoch + 1} with Val RMSE: {best_val_rmse:.4f}\")\n",
    "\n",
    "training_time = time.time() - start_time\n",
    "print(f\"Training time: {training_time:.4f}s\")"
   ],
   "metadata": {
    "collapsed": false,
    "ExecuteTime": {
     "end_time": "2024-03-08T22:38:31.391137Z",
     "start_time": "2024-03-08T21:40:55.924053Z"
    }
   },
   "id": "54a273b8afe08201",
   "execution_count": 11
  },
  {
   "cell_type": "code",
   "outputs": [
    {
     "data": {
      "text/plain": "<All keys matched successfully>"
     },
     "execution_count": 12,
     "metadata": {},
     "output_type": "execute_result"
    }
   ],
   "source": [
    "# load best model\n",
    "model = CharSiameseLSTM(vocab_size, embedding_dim, hidden_dim).to(device)\n",
    "model.load_state_dict(torch.load('best_model_character.pth'))"
   ],
   "metadata": {
    "collapsed": false,
    "ExecuteTime": {
     "end_time": "2024-03-08T22:38:31.403156Z",
     "start_time": "2024-03-08T22:38:31.392153Z"
    }
   },
   "id": "2e10703b64b54029",
   "execution_count": 12
  },
  {
   "cell_type": "code",
   "outputs": [
    {
     "name": "stdout",
     "output_type": "stream",
     "text": [
      "Test time: 60.2s, Test RMSE: 0.5367674077954866, Test MAE: 0.4274112538822403\n"
     ]
    }
   ],
   "source": [
    "test_data_loader = DataLoader(test_dataset, batch_size=batch_size, shuffle=False)\n",
    "model.eval()\n",
    "total_mse_test_loss = 0\n",
    "total_mae_test_loss = 0\n",
    "total_test_samples = 0\n",
    "test_start_time = time.time()\n",
    "with torch.no_grad():\n",
    "    # testing loop\n",
    "    for search_term, product_description, relevance in test_data_loader:\n",
    "        search_term, product_description, relevance = search_term.to(device), product_description.to(\n",
    "            device), relevance.to(device)\n",
    "        outputs = model(search_term, product_description).squeeze(1)\n",
    "\n",
    "        test_loss_mse = mse_loss(inverse_label_min_max_scaling(outputs), inverse_label_min_max_scaling(relevance))\n",
    "        test_loss_mae = mae_loss(inverse_label_min_max_scaling(outputs), inverse_label_min_max_scaling(relevance))\n",
    "\n",
    "        total_mse_test_loss += test_loss_mse.item() * len(relevance)\n",
    "        total_mae_test_loss += test_loss_mae.item() * len(relevance)\n",
    "        total_test_samples += len(relevance)\n",
    "\n",
    "test_time = time.time() - test_start_time\n",
    "test_rmse = sqrt(total_mse_test_loss / total_test_samples)\n",
    "test_mae = total_mae_test_loss / total_test_samples\n",
    "print(f'Test time: {test_time:.1f}s, Test RMSE: {test_rmse}, Test MAE: {test_mae}')"
   ],
   "metadata": {
    "collapsed": false,
    "ExecuteTime": {
     "end_time": "2024-03-08T22:39:31.589266Z",
     "start_time": "2024-03-08T22:38:31.403659Z"
    }
   },
   "id": "960c5bf9926e8781",
   "execution_count": 13
  }
 ],
 "metadata": {
  "kernelspec": {
   "display_name": "Python 3",
   "language": "python",
   "name": "python3"
  },
  "language_info": {
   "codemirror_mode": {
    "name": "ipython",
    "version": 2
   },
   "file_extension": ".py",
   "mimetype": "text/x-python",
   "name": "python",
   "nbconvert_exporter": "python",
   "pygments_lexer": "ipython2",
   "version": "2.7.6"
  }
 },
 "nbformat": 4,
 "nbformat_minor": 5
}
