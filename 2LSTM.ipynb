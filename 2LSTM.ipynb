{
 "cells": [
  {
   "cell_type": "code",
   "execution_count": 44,
   "id": "initial_id",
   "metadata": {
    "collapsed": true,
    "ExecuteTime": {
     "end_time": "2024-03-10T12:36:26.215190Z",
     "start_time": "2024-03-10T12:36:26.211755Z"
    }
   },
   "outputs": [],
   "source": [
    "import time\n",
    "import pandas as pd\n",
    "from sklearn.model_selection import train_test_split\n",
    "from torch.nn import MSELoss, L1Loss\n",
    "from torch.optim import Adam\n",
    "from torch.utils.data import DataLoader, Subset\n",
    "from math import sqrt\n",
    "from gensim.models import Word2Vec\n",
    "\n",
    "from utils.new_preproc import *\n",
    "from utils.GLOBALS import *\n",
    "from DoubleLSTM_utils.DoubleLSTMDataset import *\n",
    "from DoubleLSTM_utils.DoubleLSTMSiameseLSTM import *\n",
    "from word_utils.word_utils import pad_collate_fn"
   ]
  },
  {
   "cell_type": "code",
   "outputs": [],
   "source": [
    "# read and preprocess descriptions\n",
    "descriptions = pd.read_csv('csv/product_descriptions.csv')\n",
    "descriptions['product_description'] = descriptions['product_description'].apply(\n",
    "    lambda x: preprocess_text(x, drop_stopwords=False))"
   ],
   "metadata": {
    "collapsed": false,
    "ExecuteTime": {
     "end_time": "2024-03-10T13:17:32.842418Z",
     "start_time": "2024-03-10T12:38:16.484591Z"
    }
   },
   "id": "11de4a8445437983",
   "execution_count": 50
  },
  {
   "cell_type": "code",
   "outputs": [],
   "source": [
    "# read and preprocess train\n",
    "train = pd.read_csv('csv/train.csv', encoding='ISO-8859-1')\n",
    "train = pd.merge(train, descriptions, on='product_uid')\n",
    "train = train[['search_term', 'product_description', 'relevance']]\n",
    "train['search_term'] = train['search_term'].apply(lambda x: preprocess_text(x, drop_stopwords=False))\n",
    "train['relevance'] = train['relevance'].apply(min_max_scaling)\n",
    "\n",
    "# read and preprocess test\n",
    "test = pd.read_csv('csv/test.csv', encoding='ISO-8859-1')\n",
    "test = pd.merge(test, descriptions, on='product_uid')\n",
    "test_sol = pd.read_csv('csv/solution.csv')\n",
    "test = pd.merge(test, test_sol, on='id')\n",
    "test['search_term'] = test['search_term'].apply(lambda x: preprocess_text(x, drop_stopwords=False))\n",
    "test = test[['search_term', 'product_description', 'relevance']]\n",
    "test = test[test['relevance'] != -1].reset_index()\n",
    "test['relevance'] = test['relevance'].apply(min_max_scaling)"
   ],
   "metadata": {
    "collapsed": false,
    "ExecuteTime": {
     "end_time": "2024-03-10T21:09:33.604263Z",
     "start_time": "2024-03-10T21:07:24.924525Z"
    }
   },
   "id": "e4142917b4654c53",
   "execution_count": 226
  },
  {
   "cell_type": "code",
   "outputs": [],
   "source": [
    "# get different tokens and train 2 word2vec models\n",
    "search_tokens = list(train['search_term']) + list(test['search_term'])\n",
    "desc_tokens = list(train['product_description']) + list(test['product_description'])\n",
    "\n",
    "word2vec_model_search = Word2Vec(sentences=search_tokens, vector_size=64, window=3, min_count=1, workers=4)\n",
    "word2vec_model_desc = Word2Vec(sentences=desc_tokens, vector_size=256, window=10, min_count=1, workers=4)"
   ],
   "metadata": {
    "collapsed": false,
    "ExecuteTime": {
     "end_time": "2024-03-10T21:19:29.832968Z",
     "start_time": "2024-03-10T21:18:44.009406Z"
    }
   },
   "id": "c74b9c69c1712bd7",
   "execution_count": 234
  },
  {
   "cell_type": "code",
   "outputs": [],
   "source": [
    "# get train and test datasets\n",
    "train_dataset = DoubleLSTMDataset(train['search_term'], train['product_description'], train['relevance'],\n",
    "                                  word2vec_model_search, word2vec_model_desc)\n",
    "test_dataset = DoubleLSTMDataset(test['search_term'], test['product_description'], test['relevance'],\n",
    "                                 word2vec_model_search,\n",
    "                                 word2vec_model_desc)"
   ],
   "metadata": {
    "collapsed": false
   },
   "id": "e2252da440cdec54",
   "execution_count": 240
  },
  {
   "cell_type": "code",
   "outputs": [
    {
     "name": "stdout",
     "output_type": "stream",
     "text": [
      "Using cuda device.\n",
      "Epoch 1 (36.7s), Train RMSE: 0.5994360307510387, Val RMSE: 0.5338863029025355, Train MAE: 0.4939505035209529, Val MAE: 0.44080752995359573\n",
      "New best model saved at epoch 1 with Val RMSE: 0.5339\n",
      "Epoch 2 (36.6s), Train RMSE: 0.5196622151710452, Val RMSE: 0.5183462907188503, Train MAE: 0.42853733127015314, Val MAE: 0.42474584185483244\n",
      "New best model saved at epoch 2 with Val RMSE: 0.5183\n",
      "Epoch 3 (36.4s), Train RMSE: 0.5106002663663126, Val RMSE: 0.5134962952144745, Train MAE: 0.4190081533828514, Val MAE: 0.41958791725674477\n",
      "New best model saved at epoch 3 with Val RMSE: 0.5135\n",
      "Epoch 4 (36.7s), Train RMSE: 0.5049939071364626, Val RMSE: 0.5098959605954732, Train MAE: 0.41406650427168273, Val MAE: 0.41112735876754436\n",
      "New best model saved at epoch 4 with Val RMSE: 0.5099\n",
      "Epoch 5 (36.7s), Train RMSE: 0.4966879636459949, Val RMSE: 0.5130621217563953, Train MAE: 0.40528281542218053, Val MAE: 0.4109092529838475\n",
      "Epoch 6 (36.7s), Train RMSE: 0.48648589861797176, Val RMSE: 0.5033399386491604, Train MAE: 0.39613176155957047, Val MAE: 0.4071609808660896\n",
      "New best model saved at epoch 6 with Val RMSE: 0.5033\n",
      "Epoch 7 (36.6s), Train RMSE: 0.4749404238057421, Val RMSE: 0.5007630090146089, Train MAE: 0.38553953317290746, Val MAE: 0.4017739707728026\n",
      "New best model saved at epoch 7 with Val RMSE: 0.5008\n",
      "Epoch 8 (36.8s), Train RMSE: 0.46494287359518777, Val RMSE: 0.4988219874480515, Train MAE: 0.3762478598564053, Val MAE: 0.40363571137910076\n",
      "New best model saved at epoch 8 with Val RMSE: 0.4988\n",
      "Epoch 9 (37.6s), Train RMSE: 0.4542491428407619, Val RMSE: 0.49783511671095304, Train MAE: 0.36718656499482444, Val MAE: 0.3997129037889759\n",
      "New best model saved at epoch 9 with Val RMSE: 0.4978\n",
      "Epoch 10 (36.0s), Train RMSE: 0.4434427842280919, Val RMSE: 0.49730456569772924, Train MAE: 0.35773199821623813, Val MAE: 0.39828234970110926\n",
      "New best model saved at epoch 10 with Val RMSE: 0.4973\n"
     ]
    }
   ],
   "source": [
    "# train parameters\n",
    "embedding_dim_search = word2vec_model_search.vector_size\n",
    "embedding_dim_desc = word2vec_model_desc.vector_size\n",
    "hidden_dim = 128\n",
    "learning_rate = 0.001\n",
    "batch_size = 64\n",
    "num_epochs = 100\n",
    "\n",
    "# stratify validation set\n",
    "binned_labels = pd.qcut(train['relevance'], q=3, labels=False, duplicates='drop')\n",
    "train_indices, val_indices = train_test_split(range(len(train_dataset)), test_size=0.2, stratify=binned_labels,\n",
    "                                              random_state=42)\n",
    "\n",
    "# split train to train-val\n",
    "train_subset = Subset(train_dataset, train_indices)\n",
    "val_subset = Subset(train_dataset, val_indices)\n",
    "train_data_loader = DataLoader(train_subset, batch_size=batch_size, shuffle=True, collate_fn=pad_collate_fn)\n",
    "val_data_loader = DataLoader(val_subset, batch_size=batch_size, shuffle=False, collate_fn=pad_collate_fn)\n",
    "\n",
    "# model, metrics, optimizer\n",
    "model = DoubleLSTMSiameseLSTM(embedding_dim_search, embedding_dim_desc, hidden_dim).to(device)\n",
    "mse_loss = MSELoss()\n",
    "mae_loss = L1Loss()\n",
    "optimizer = Adam(model.parameters(), lr=learning_rate)\n",
    "\n",
    "# used for saving best model\n",
    "best_val_rmse = float('inf')\n",
    "\n",
    "start_time = time.time()\n",
    "model.train()\n",
    "for epoch in range(num_epochs):\n",
    "    epoch_start_time = time.time()\n",
    "\n",
    "    model.train()\n",
    "    total_mse_train_loss = 0\n",
    "    total_mae_train_loss = 0\n",
    "    total_train_samples = 0\n",
    "    # train loop\n",
    "    for search_term, product_description, relevance in train_data_loader:\n",
    "        search_term, product_description, relevance = search_term.to(device), product_description.to(\n",
    "            device), relevance.to(device)\n",
    "\n",
    "        # backpropagation\n",
    "        optimizer.zero_grad()\n",
    "        outputs = model(search_term, product_description).squeeze(1)\n",
    "        loss_mse = mse_loss(outputs, relevance)\n",
    "        loss_mse.backward()\n",
    "        optimizer.step()\n",
    "\n",
    "        # inverse labels for correct calculation of metrics\n",
    "        loss_mse = mse_loss(inverse_min_max_scaling(outputs), inverse_min_max_scaling(relevance))\n",
    "        loss_mae = mae_loss(inverse_min_max_scaling(outputs), inverse_min_max_scaling(relevance))\n",
    "\n",
    "        total_mse_train_loss += loss_mse.item() * len(relevance)\n",
    "        total_mae_train_loss += loss_mae.item() * len(relevance)\n",
    "        total_train_samples += len(relevance)\n",
    "\n",
    "    train_rmse = sqrt(total_mse_train_loss / total_train_samples)\n",
    "    train_mae = total_mae_train_loss / total_train_samples\n",
    "\n",
    "    # validation loop\n",
    "    model.eval()\n",
    "    total_mse_val_loss = 0\n",
    "    total_mae_val_loss = 0\n",
    "    total_val_samples = 0\n",
    "    with torch.no_grad():\n",
    "        for search_term, product_description, relevance in val_data_loader:\n",
    "            search_term, product_description, relevance = search_term.to(device), product_description.to(\n",
    "                device), relevance.to(device)\n",
    "            outputs = model(search_term, product_description).squeeze(1)\n",
    "\n",
    "            val_loss_mse = mse_loss(inverse_min_max_scaling(outputs), inverse_min_max_scaling(relevance))\n",
    "            val_loss_mae = mae_loss(inverse_min_max_scaling(outputs), inverse_min_max_scaling(relevance))\n",
    "\n",
    "            total_mse_val_loss += val_loss_mse.item() * len(relevance)\n",
    "            total_mae_val_loss += val_loss_mae.item() * len(relevance)\n",
    "            total_val_samples += len(relevance)\n",
    "\n",
    "    val_rmse = sqrt(total_mse_val_loss / total_val_samples)\n",
    "    val_mae = total_mae_val_loss / total_val_samples\n",
    "\n",
    "    epoch_time = time.time() - epoch_start_time\n",
    "    print(\n",
    "        f\"Epoch {epoch + 1} ({epoch_time:.1f}s), Train RMSE: {train_rmse}, Val RMSE: {val_rmse}, Train MAE: {train_mae}, Val MAE: {val_mae}\")\n",
    "\n",
    "    # save best model\n",
    "    if val_rmse < best_val_rmse:\n",
    "        best_val_rmse = val_rmse\n",
    "        torch.save(model.state_dict(), 'best_model_character.pth')\n",
    "        print(f\"New best model saved at epoch {epoch + 1} with Val RMSE: {best_val_rmse:.4f}\")\n",
    "\n",
    "training_time = time.time() - start_time\n",
    "print(f\"Training time: {training_time:.4f}s\")"
   ],
   "metadata": {
    "collapsed": false,
    "is_executing": true,
    "ExecuteTime": {
     "start_time": "2024-03-10T21:20:32.889902Z"
    }
   },
   "id": "e675a9505c41efd1",
   "execution_count": null
  },
  {
   "cell_type": "code",
   "outputs": [
    {
     "data": {
      "text/plain": "<All keys matched successfully>"
     },
     "execution_count": 232,
     "metadata": {},
     "output_type": "execute_result"
    }
   ],
   "source": [
    "# load best model\n",
    "model = DoubleLSTMSiameseLSTM(embedding_dim_search, embedding_dim_desc, hidden_dim).to(device)\n",
    "model.load_state_dict(torch.load('best_model_character.pth'))"
   ],
   "metadata": {
    "collapsed": false,
    "ExecuteTime": {
     "end_time": "2024-03-10T21:17:07.580344Z",
     "start_time": "2024-03-10T21:17:07.570451Z"
    }
   },
   "id": "4618a7ef080bb061",
   "execution_count": 232
  },
  {
   "cell_type": "code",
   "outputs": [
    {
     "name": "stdout",
     "output_type": "stream",
     "text": [
      "Test time: 43.0s, Test RMSE: 0.5294878105664198, Test MAE: 0.42492599654661695\n"
     ]
    }
   ],
   "source": [
    "test_data_loader = DataLoader(test_dataset, batch_size=batch_size, shuffle=False, collate_fn=pad_collate_fn)\n",
    "model.eval()\n",
    "total_mse_test_loss = 0\n",
    "total_mae_test_loss = 0\n",
    "total_test_samples = 0\n",
    "test_start_time = time.time()\n",
    "with torch.no_grad():\n",
    "    # testing loop\n",
    "    for search_term, product_description, relevance in test_data_loader:\n",
    "        search_term, product_description, relevance = search_term.to(device), product_description.to(\n",
    "            device), relevance.to(device)\n",
    "        outputs = model(search_term, product_description).squeeze(1)\n",
    "\n",
    "        test_loss_mse = mse_loss(inverse_min_max_scaling(outputs), inverse_min_max_scaling(relevance))\n",
    "        test_loss_mae = mae_loss(inverse_min_max_scaling(outputs), inverse_min_max_scaling(relevance))\n",
    "\n",
    "        total_mse_test_loss += test_loss_mse.item() * len(relevance)\n",
    "        total_mae_test_loss += test_loss_mae.item() * len(relevance)\n",
    "        total_test_samples += len(relevance)\n",
    "\n",
    "test_time = time.time() - test_start_time\n",
    "test_rmse = sqrt(total_mse_test_loss / total_test_samples)\n",
    "test_mae = total_mae_test_loss / total_test_samples\n",
    "print(f'Test time: {test_time:.1f}s, Test RMSE: {test_rmse}, Test MAE: {test_mae}')"
   ],
   "metadata": {
    "collapsed": false,
    "ExecuteTime": {
     "end_time": "2024-03-10T21:17:51.090242Z",
     "start_time": "2024-03-10T21:17:08.062740Z"
    }
   },
   "id": "3b4abf16dc7a1dbe",
   "execution_count": 233
  },
  {
   "cell_type": "code",
   "outputs": [],
   "source": [],
   "metadata": {
    "collapsed": false,
    "ExecuteTime": {
     "start_time": "2024-03-10T16:48:07.197595Z"
    }
   },
   "id": "4112fb31210b31dd"
  }
 ],
 "metadata": {
  "kernelspec": {
   "display_name": "Python 3",
   "language": "python",
   "name": "python3"
  },
  "language_info": {
   "codemirror_mode": {
    "name": "ipython",
    "version": 2
   },
   "file_extension": ".py",
   "mimetype": "text/x-python",
   "name": "python",
   "nbconvert_exporter": "python",
   "pygments_lexer": "ipython2",
   "version": "2.7.6"
  }
 },
 "nbformat": 4,
 "nbformat_minor": 5
}
